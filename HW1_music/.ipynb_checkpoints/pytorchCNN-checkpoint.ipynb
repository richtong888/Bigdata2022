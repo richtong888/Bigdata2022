{
 "cells": [
  {
   "cell_type": "code",
   "execution_count": 2,
   "metadata": {},
   "outputs": [],
   "source": [
    "import torch\n",
    "import torch.nn as nn\n",
    "from torch.autograd import Variable\n",
    "import torch.utils.data as Data\n",
    "import torchvision\n",
    "import matplotlib.pyplot as plt\n",
    "from PIL import Image\n",
    "import os\n"
   ]
  },
  {
   "cell_type": "code",
   "execution_count": 3,
   "metadata": {},
   "outputs": [
    {
     "name": "stdout",
     "output_type": "stream",
     "text": [
      "1.5.0+cu101\n"
     ]
    }
   ],
   "source": [
    "print(torch.__version__)"
   ]
  },
  {
   "cell_type": "code",
   "execution_count": 4,
   "metadata": {},
   "outputs": [],
   "source": [
    "EPOCH = 10\n",
    "BATCH_SIZE = 50\n",
    "LR = 0.001\n",
    "DOWNLOAD_MNIST = True"
   ]
  },
  {
   "cell_type": "markdown",
   "metadata": {},
   "source": [
    "# self define dataloader\n"
   ]
  },
  {
   "cell_type": "code",
   "execution_count": null,
   "metadata": {},
   "outputs": [],
   "source": [
    "\n",
    "def default_loader(path):\n",
    "    return Image.open(path).convert('RGB')\n",
    "\n",
    "class myImageFloder(data.Dataset):\n",
    "    def __init__(self, root, label, transform = None, target_transform=None, loader=default_loader):\n",
    "        fh = open(label)\n",
    "        c=0\n",
    "        imgs=[]\n",
    "        class_names=[]\n",
    "        for line in  fh.readlines():\n",
    "            if c==0:\n",
    "                class_names=[n.strip() for n in line.rstrip().split('\t')]\n",
    "            else:\n",
    "                cls = line.split() \n",
    "                fn = cls.pop(0)\n",
    "                if os.path.isfile(os.path.join(root, fn)):\n",
    "                    imgs.append((fn, tuple([float(v) for v in cls])))\n",
    "            c=c+1\n",
    "        self.root = root\n",
    "        self.imgs = imgs\n",
    "        self.classes = class_names\n",
    "        self.transform = transform\n",
    "        self.target_transform = target_transform\n",
    "        self.loader = loader\n",
    "\n",
    "    def __getitem__(self, index):\n",
    "        fn, label = self.imgs[index]\n",
    "        img = self.loader(os.path.join(self.root, fn))\n",
    "        if self.transform is not None:\n",
    "            img = self.transform(img)\n",
    "        return img, torch.Tensor(label)\n",
    "\n",
    "    def __len__(self):\n",
    "        return len(self.imgs)\n",
    "    \n",
    "    def getName(self):\n",
    "        return self.classes"
   ]
  },
  {
   "cell_type": "code",
   "execution_count": 5,
   "metadata": {},
   "outputs": [],
   "source": [
    "train_data = torchvision.datasets.MNIST(\n",
    "    root = './mnist',\n",
    "    train = True,\n",
    "    transform=torchvision.transforms.ToTensor(), #改成torch可讀\n",
    "    download=DOWNLOAD_MNIST,\n",
    ")"
   ]
  },
  {
   "cell_type": "code",
   "execution_count": 6,
   "metadata": {},
   "outputs": [
    {
     "name": "stderr",
     "output_type": "stream",
     "text": [
      "/home/richtong888/anaconda3/lib/python3.8/site-packages/torchvision/datasets/mnist.py:60: UserWarning: test_data has been renamed data\n",
      "  warnings.warn(\"test_data has been renamed data\")\n",
      "/home/richtong888/anaconda3/lib/python3.8/site-packages/torchvision/datasets/mnist.py:50: UserWarning: test_labels has been renamed targets\n",
      "  warnings.warn(\"test_labels has been renamed targets\")\n"
     ]
    }
   ],
   "source": [
    "train_loader = Data.DataLoader(dataset=train_data, batch_size=BATCH_SIZE, shuffle=True)\n",
    "\n",
    "test_data = torchvision.datasets.MNIST(root='./mnist/', train=False)\n",
    "test_x = Variable(torch.unsqueeze(test_data.test_data, dim=1)).type(torch.FloatTensor)[:2000]/255.   # shape from (2000, 28, 28) to (2000, 1, 28, 28), value in range(0,1)\n",
    "test_y = test_data.test_labels[:2000]"
   ]
  },
  {
   "cell_type": "code",
   "execution_count": 7,
   "metadata": {},
   "outputs": [
    {
     "name": "stdout",
     "output_type": "stream",
     "text": [
      "tensor([[[[0., 0., 0.,  ..., 0., 0., 0.],\n",
      "          [0., 0., 0.,  ..., 0., 0., 0.],\n",
      "          [0., 0., 0.,  ..., 0., 0., 0.],\n",
      "          ...,\n",
      "          [0., 0., 0.,  ..., 0., 0., 0.],\n",
      "          [0., 0., 0.,  ..., 0., 0., 0.],\n",
      "          [0., 0., 0.,  ..., 0., 0., 0.]]],\n",
      "\n",
      "\n",
      "        [[[0., 0., 0.,  ..., 0., 0., 0.],\n",
      "          [0., 0., 0.,  ..., 0., 0., 0.],\n",
      "          [0., 0., 0.,  ..., 0., 0., 0.],\n",
      "          ...,\n",
      "          [0., 0., 0.,  ..., 0., 0., 0.],\n",
      "          [0., 0., 0.,  ..., 0., 0., 0.],\n",
      "          [0., 0., 0.,  ..., 0., 0., 0.]]],\n",
      "\n",
      "\n",
      "        [[[0., 0., 0.,  ..., 0., 0., 0.],\n",
      "          [0., 0., 0.,  ..., 0., 0., 0.],\n",
      "          [0., 0., 0.,  ..., 0., 0., 0.],\n",
      "          ...,\n",
      "          [0., 0., 0.,  ..., 0., 0., 0.],\n",
      "          [0., 0., 0.,  ..., 0., 0., 0.],\n",
      "          [0., 0., 0.,  ..., 0., 0., 0.]]],\n",
      "\n",
      "\n",
      "        ...,\n",
      "\n",
      "\n",
      "        [[[0., 0., 0.,  ..., 0., 0., 0.],\n",
      "          [0., 0., 0.,  ..., 0., 0., 0.],\n",
      "          [0., 0., 0.,  ..., 0., 0., 0.],\n",
      "          ...,\n",
      "          [0., 0., 0.,  ..., 0., 0., 0.],\n",
      "          [0., 0., 0.,  ..., 0., 0., 0.],\n",
      "          [0., 0., 0.,  ..., 0., 0., 0.]]],\n",
      "\n",
      "\n",
      "        [[[0., 0., 0.,  ..., 0., 0., 0.],\n",
      "          [0., 0., 0.,  ..., 0., 0., 0.],\n",
      "          [0., 0., 0.,  ..., 0., 0., 0.],\n",
      "          ...,\n",
      "          [0., 0., 0.,  ..., 0., 0., 0.],\n",
      "          [0., 0., 0.,  ..., 0., 0., 0.],\n",
      "          [0., 0., 0.,  ..., 0., 0., 0.]]],\n",
      "\n",
      "\n",
      "        [[[0., 0., 0.,  ..., 0., 0., 0.],\n",
      "          [0., 0., 0.,  ..., 0., 0., 0.],\n",
      "          [0., 0., 0.,  ..., 0., 0., 0.],\n",
      "          ...,\n",
      "          [0., 0., 0.,  ..., 0., 0., 0.],\n",
      "          [0., 0., 0.,  ..., 0., 0., 0.],\n",
      "          [0., 0., 0.,  ..., 0., 0., 0.]]]])\n"
     ]
    }
   ],
   "source": [
    "print(test_x)"
   ]
  },
  {
   "cell_type": "code",
   "execution_count": 8,
   "metadata": {},
   "outputs": [],
   "source": [
    "class CNN(nn.Module):\n",
    "    def __init__(self):\n",
    "        super(CNN, self).__init__()\n",
    "        self.conv1 = nn.Sequential(         # input shape (1, 28, 28)\n",
    "            nn.Conv2d(\n",
    "                in_channels=1,              # input height\n",
    "                out_channels=16,            # n_filters\n",
    "                kernel_size=5,              # filter size\n",
    "                stride=1,                   # filter movement/step\n",
    "                padding=2,                  # if want same width and length of this image after con2d, padding=(kernel_size-1)/2 if stride=1\n",
    "            ),                              # output shape (16, 28, 28)\n",
    "            nn.ReLU(),                      # activation\n",
    "            nn.MaxPool2d(kernel_size=2),    # choose max value in 2x2 area, output shape (16, 14, 14)\n",
    "        )\n",
    "        self.conv2 = nn.Sequential(         # input shape (1, 28, 28)\n",
    "            nn.Conv2d(16, 32, 5, 1, 2),     # output shape (32, 14, 14)\n",
    "            nn.ReLU(),                      # activation\n",
    "            nn.MaxPool2d(2),                # output shape (32, 7, 7)\n",
    "        )\n",
    "        self.out = nn.Linear(32 * 7 * 7, 10)   # fully connected layer, output 10 classes\n",
    "\n",
    "    def forward(self, x):\n",
    "        x = self.conv1(x)\n",
    "        x = self.conv2(x)\n",
    "        x = x.view(x.size(0), -1)           # flatten the output of conv2 to (batch_size, 32 * 7 * 7)\n",
    "        output = self.out(x)\n",
    "        return output, x    # return x for visualization"
   ]
  },
  {
   "cell_type": "code",
   "execution_count": 9,
   "metadata": {},
   "outputs": [
    {
     "name": "stdout",
     "output_type": "stream",
     "text": [
      "CNN(\n",
      "  (conv1): Sequential(\n",
      "    (0): Conv2d(1, 16, kernel_size=(5, 5), stride=(1, 1), padding=(2, 2))\n",
      "    (1): ReLU()\n",
      "    (2): MaxPool2d(kernel_size=2, stride=2, padding=0, dilation=1, ceil_mode=False)\n",
      "  )\n",
      "  (conv2): Sequential(\n",
      "    (0): Conv2d(16, 32, kernel_size=(5, 5), stride=(1, 1), padding=(2, 2))\n",
      "    (1): ReLU()\n",
      "    (2): MaxPool2d(kernel_size=2, stride=2, padding=0, dilation=1, ceil_mode=False)\n",
      "  )\n",
      "  (out): Linear(in_features=1568, out_features=10, bias=True)\n",
      ")\n"
     ]
    }
   ],
   "source": [
    "cnn = CNN()\n",
    "print(cnn)"
   ]
  },
  {
   "cell_type": "code",
   "execution_count": 10,
   "metadata": {},
   "outputs": [],
   "source": [
    "optimizer = torch.optim.Adam(cnn.parameters(), lr=LR)   # optimize all cnn parameters\n",
    "loss_func = nn.CrossEntropyLoss()                       # the target label is not one-hotted"
   ]
  },
  {
   "cell_type": "code",
   "execution_count": 11,
   "metadata": {},
   "outputs": [
    {
     "name": "stdout",
     "output_type": "stream",
     "text": [
      "Epoch:  0 | train loss: 2.3015 | test accuracy: 0.12\n",
      "Epoch:  0 | train loss: 0.2565 | test accuracy: 0.88\n",
      "Epoch:  0 | train loss: 0.1491 | test accuracy: 0.92\n",
      "Epoch:  0 | train loss: 0.1999 | test accuracy: 0.95\n",
      "Epoch:  0 | train loss: 0.1456 | test accuracy: 0.95\n",
      "Epoch:  0 | train loss: 0.0427 | test accuracy: 0.96\n",
      "Epoch:  0 | train loss: 0.1182 | test accuracy: 0.97\n",
      "Epoch:  0 | train loss: 0.1045 | test accuracy: 0.96\n",
      "Epoch:  0 | train loss: 0.0580 | test accuracy: 0.97\n",
      "Epoch:  0 | train loss: 0.0271 | test accuracy: 0.97\n",
      "Epoch:  0 | train loss: 0.0325 | test accuracy: 0.97\n",
      "Epoch:  0 | train loss: 0.0524 | test accuracy: 0.98\n",
      "Epoch:  1 | train loss: 0.0074 | test accuracy: 0.98\n",
      "Epoch:  1 | train loss: 0.0543 | test accuracy: 0.98\n",
      "Epoch:  1 | train loss: 0.0050 | test accuracy: 0.98\n",
      "Epoch:  1 | train loss: 0.0186 | test accuracy: 0.97\n",
      "Epoch:  1 | train loss: 0.0339 | test accuracy: 0.98\n",
      "Epoch:  1 | train loss: 0.0150 | test accuracy: 0.98\n",
      "Epoch:  1 | train loss: 0.0563 | test accuracy: 0.99\n",
      "Epoch:  1 | train loss: 0.0077 | test accuracy: 0.98\n",
      "Epoch:  1 | train loss: 0.0706 | test accuracy: 0.98\n",
      "Epoch:  1 | train loss: 0.1353 | test accuracy: 0.98\n",
      "Epoch:  1 | train loss: 0.0263 | test accuracy: 0.99\n",
      "Epoch:  1 | train loss: 0.1945 | test accuracy: 0.98\n",
      "Epoch:  2 | train loss: 0.0131 | test accuracy: 0.98\n",
      "Epoch:  2 | train loss: 0.0109 | test accuracy: 0.98\n",
      "Epoch:  2 | train loss: 0.2138 | test accuracy: 0.99\n",
      "Epoch:  2 | train loss: 0.0019 | test accuracy: 0.98\n",
      "Epoch:  2 | train loss: 0.0253 | test accuracy: 0.98\n",
      "Epoch:  2 | train loss: 0.0141 | test accuracy: 0.98\n",
      "Epoch:  2 | train loss: 0.0470 | test accuracy: 0.98\n",
      "Epoch:  2 | train loss: 0.0088 | test accuracy: 0.98\n",
      "Epoch:  2 | train loss: 0.0283 | test accuracy: 0.99\n",
      "Epoch:  2 | train loss: 0.1241 | test accuracy: 0.99\n",
      "Epoch:  2 | train loss: 0.0013 | test accuracy: 0.99\n",
      "Epoch:  2 | train loss: 0.0242 | test accuracy: 0.98\n",
      "Epoch:  3 | train loss: 0.0189 | test accuracy: 0.98\n",
      "Epoch:  3 | train loss: 0.0049 | test accuracy: 0.98\n",
      "Epoch:  3 | train loss: 0.0077 | test accuracy: 0.98\n",
      "Epoch:  3 | train loss: 0.0130 | test accuracy: 0.98\n",
      "Epoch:  3 | train loss: 0.0015 | test accuracy: 0.98\n",
      "Epoch:  3 | train loss: 0.0510 | test accuracy: 0.98\n",
      "Epoch:  3 | train loss: 0.1015 | test accuracy: 0.99\n",
      "Epoch:  3 | train loss: 0.0159 | test accuracy: 0.99\n",
      "Epoch:  3 | train loss: 0.0467 | test accuracy: 0.98\n",
      "Epoch:  3 | train loss: 0.0879 | test accuracy: 0.98\n",
      "Epoch:  3 | train loss: 0.0227 | test accuracy: 0.98\n",
      "Epoch:  3 | train loss: 0.0338 | test accuracy: 0.98\n",
      "Epoch:  4 | train loss: 0.0471 | test accuracy: 0.98\n",
      "Epoch:  4 | train loss: 0.0014 | test accuracy: 0.99\n",
      "Epoch:  4 | train loss: 0.0282 | test accuracy: 0.98\n",
      "Epoch:  4 | train loss: 0.0147 | test accuracy: 0.99\n",
      "Epoch:  4 | train loss: 0.0044 | test accuracy: 0.99\n",
      "Epoch:  4 | train loss: 0.0349 | test accuracy: 0.98\n",
      "Epoch:  4 | train loss: 0.0303 | test accuracy: 0.99\n",
      "Epoch:  4 | train loss: 0.0071 | test accuracy: 0.99\n",
      "Epoch:  4 | train loss: 0.0019 | test accuracy: 0.99\n",
      "Epoch:  4 | train loss: 0.0191 | test accuracy: 0.98\n",
      "Epoch:  4 | train loss: 0.0158 | test accuracy: 0.99\n",
      "Epoch:  4 | train loss: 0.0163 | test accuracy: 0.98\n",
      "Epoch:  5 | train loss: 0.0029 | test accuracy: 0.99\n",
      "Epoch:  5 | train loss: 0.0029 | test accuracy: 0.99\n",
      "Epoch:  5 | train loss: 0.0093 | test accuracy: 0.99\n",
      "Epoch:  5 | train loss: 0.0289 | test accuracy: 0.98\n",
      "Epoch:  5 | train loss: 0.0019 | test accuracy: 0.99\n",
      "Epoch:  5 | train loss: 0.0099 | test accuracy: 0.99\n",
      "Epoch:  5 | train loss: 0.0054 | test accuracy: 0.99\n",
      "Epoch:  5 | train loss: 0.0269 | test accuracy: 0.99\n",
      "Epoch:  5 | train loss: 0.0158 | test accuracy: 0.99\n",
      "Epoch:  5 | train loss: 0.0022 | test accuracy: 0.99\n",
      "Epoch:  5 | train loss: 0.0004 | test accuracy: 0.99\n",
      "Epoch:  5 | train loss: 0.0012 | test accuracy: 0.99\n",
      "Epoch:  6 | train loss: 0.0486 | test accuracy: 0.99\n",
      "Epoch:  6 | train loss: 0.0046 | test accuracy: 0.99\n",
      "Epoch:  6 | train loss: 0.0084 | test accuracy: 0.98\n",
      "Epoch:  6 | train loss: 0.0827 | test accuracy: 0.99\n",
      "Epoch:  6 | train loss: 0.0008 | test accuracy: 0.99\n",
      "Epoch:  6 | train loss: 0.0037 | test accuracy: 0.99\n",
      "Epoch:  6 | train loss: 0.0008 | test accuracy: 0.99\n",
      "Epoch:  6 | train loss: 0.0030 | test accuracy: 0.99\n",
      "Epoch:  6 | train loss: 0.0009 | test accuracy: 0.99\n",
      "Epoch:  6 | train loss: 0.0139 | test accuracy: 0.98\n",
      "Epoch:  6 | train loss: 0.0026 | test accuracy: 0.99\n",
      "Epoch:  6 | train loss: 0.0079 | test accuracy: 0.98\n",
      "Epoch:  7 | train loss: 0.0103 | test accuracy: 0.99\n",
      "Epoch:  7 | train loss: 0.0016 | test accuracy: 0.99\n",
      "Epoch:  7 | train loss: 0.0189 | test accuracy: 0.99\n",
      "Epoch:  7 | train loss: 0.0040 | test accuracy: 0.99\n",
      "Epoch:  7 | train loss: 0.0031 | test accuracy: 0.99\n",
      "Epoch:  7 | train loss: 0.0266 | test accuracy: 0.99\n",
      "Epoch:  7 | train loss: 0.0014 | test accuracy: 0.99\n",
      "Epoch:  7 | train loss: 0.0786 | test accuracy: 0.99\n",
      "Epoch:  7 | train loss: 0.0100 | test accuracy: 0.99\n",
      "Epoch:  7 | train loss: 0.0030 | test accuracy: 0.99\n",
      "Epoch:  7 | train loss: 0.0506 | test accuracy: 0.99\n",
      "Epoch:  7 | train loss: 0.0092 | test accuracy: 0.98\n",
      "Epoch:  8 | train loss: 0.0001 | test accuracy: 0.99\n",
      "Epoch:  8 | train loss: 0.0003 | test accuracy: 0.99\n",
      "Epoch:  8 | train loss: 0.0012 | test accuracy: 0.99\n",
      "Epoch:  8 | train loss: 0.0011 | test accuracy: 0.99\n",
      "Epoch:  8 | train loss: 0.0024 | test accuracy: 0.99\n",
      "Epoch:  8 | train loss: 0.0078 | test accuracy: 0.99\n",
      "Epoch:  8 | train loss: 0.0112 | test accuracy: 0.99\n",
      "Epoch:  8 | train loss: 0.0018 | test accuracy: 0.99\n",
      "Epoch:  8 | train loss: 0.0010 | test accuracy: 0.99\n",
      "Epoch:  8 | train loss: 0.0007 | test accuracy: 0.99\n",
      "Epoch:  8 | train loss: 0.0191 | test accuracy: 0.99\n",
      "Epoch:  8 | train loss: 0.0139 | test accuracy: 0.99\n",
      "Epoch:  9 | train loss: 0.0023 | test accuracy: 0.99\n",
      "Epoch:  9 | train loss: 0.0160 | test accuracy: 0.99\n",
      "Epoch:  9 | train loss: 0.0009 | test accuracy: 0.99\n",
      "Epoch:  9 | train loss: 0.0001 | test accuracy: 0.99\n",
      "Epoch:  9 | train loss: 0.0012 | test accuracy: 0.99\n",
      "Epoch:  9 | train loss: 0.0005 | test accuracy: 0.99\n",
      "Epoch:  9 | train loss: 0.0001 | test accuracy: 0.99\n",
      "Epoch:  9 | train loss: 0.0001 | test accuracy: 0.99\n",
      "Epoch:  9 | train loss: 0.0016 | test accuracy: 0.99\n",
      "Epoch:  9 | train loss: 0.0070 | test accuracy: 0.99\n",
      "Epoch:  9 | train loss: 0.0000 | test accuracy: 0.99\n",
      "Epoch:  9 | train loss: 0.0001 | test accuracy: 0.99\n",
      "Finish\n"
     ]
    }
   ],
   "source": [
    "for epoch in range(EPOCH):\n",
    "    for step, (x, y) in enumerate(train_loader):   # gives batch data, normalize x when iterate train_loader\n",
    "        b_x = Variable(x)   # batch x\n",
    "        b_y = Variable(y)   # batch y\n",
    "\n",
    "        output = cnn(b_x)[0]               # cnn output\n",
    "        loss = loss_func(output, b_y)   # cross entropy loss\n",
    "        optimizer.zero_grad()           # clear gradients for this training step\n",
    "        loss.backward()                 # backpropagation, compute gradients\n",
    "        optimizer.step()                # apply gradients\n",
    "\n",
    "        if step % 100 == 0:\n",
    "            test_output, last_layer = cnn(test_x)\n",
    "            pred_y = torch.max(test_output, 1)[1].data.squeeze()\n",
    "            accuracy = (pred_y == test_y).sum().item() / float(test_y.size(0))\n",
    "            print('Epoch: ', epoch, '| train loss: %.4f' % loss.item(), '| test accuracy: %.2f' % accuracy)\n",
    "print(\"Finish\")"
   ]
  },
  {
   "cell_type": "code",
   "execution_count": 12,
   "metadata": {},
   "outputs": [
    {
     "name": "stdout",
     "output_type": "stream",
     "text": [
      "[7 2 1 0 4 1 4 9 5 9] prediction number\n",
      "[7 2 1 0 4 1 4 9 5 9] real number\n"
     ]
    }
   ],
   "source": [
    "# print 10 predictions from test data\n",
    "test_output, _ = cnn(test_x[:10])\n",
    "pred_y = torch.max(test_output, 1)[1].data.numpy().squeeze()\n",
    "print(pred_y, 'prediction number')\n",
    "print(test_y[:10].numpy(), 'real number')"
   ]
  },
  {
   "cell_type": "code",
   "execution_count": null,
   "metadata": {},
   "outputs": [],
   "source": []
  }
 ],
 "metadata": {
  "kernelspec": {
   "display_name": "Python 3",
   "language": "python",
   "name": "python3"
  },
  "language_info": {
   "codemirror_mode": {
    "name": "ipython",
    "version": 3
   },
   "file_extension": ".py",
   "mimetype": "text/x-python",
   "name": "python",
   "nbconvert_exporter": "python",
   "pygments_lexer": "ipython3",
   "version": "3.8.8"
  }
 },
 "nbformat": 4,
 "nbformat_minor": 2
}
